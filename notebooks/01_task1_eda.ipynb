{
 "cells": [
  {
   "cell_type": "markdown",
   "metadata": {},
   "source": [
    "### Time Series Forecasting for Portfolio Management\n",
    "### Task 1: Data Preprocessing & Exploratory Data Analysis"
   ]
  },
  {
   "cell_type": "code",
   "execution_count": 1,
   "metadata": {},
   "outputs": [
    {
     "ename": "ImportError",
     "evalue": "attempted relative import with no known parent package",
     "output_type": "error",
     "traceback": [
      "\u001b[31m---------------------------------------------------------------------------\u001b[39m",
      "\u001b[31mImportError\u001b[39m                               Traceback (most recent call last)",
      "\u001b[36mCell\u001b[39m\u001b[36m \u001b[39m\u001b[32mIn[1]\u001b[39m\u001b[32m, line 11\u001b[39m\n\u001b[32m      9\u001b[39m \u001b[38;5;28;01mfrom\u001b[39;00m\u001b[38;5;250m \u001b[39m\u001b[34;01mconfig\u001b[39;00m\u001b[38;5;250m \u001b[39m\u001b[38;5;28;01mimport\u001b[39;00m DEFAULT_TICKERS, DEFAULT_START, DEFAULT_END, PROCESSED_DIR\n\u001b[32m     10\u001b[39m \u001b[38;5;28;01mfrom\u001b[39;00m\u001b[38;5;250m \u001b[39m\u001b[34;01mdata_fetch\u001b[39;00m\u001b[38;5;250m \u001b[39m\u001b[38;5;28;01mimport\u001b[39;00m fetch_multiple\n\u001b[32m---> \u001b[39m\u001b[32m11\u001b[39m \u001b[38;5;28;01mfrom\u001b[39;00m\u001b[38;5;250m \u001b[39m\u001b[34;01mpreprocess\u001b[39;00m\u001b[38;5;250m \u001b[39m\u001b[38;5;28;01mimport\u001b[39;00m process_and_save\n\u001b[32m     12\u001b[39m \u001b[38;5;28;01mfrom\u001b[39;00m\u001b[38;5;250m \u001b[39m\u001b[34;01meda\u001b[39;00m\u001b[38;5;250m \u001b[39m\u001b[38;5;28;01mimport\u001b[39;00m plot_close, plot_returns_hist, plot_rolling_vol, adf_test_print\n\u001b[32m     14\u001b[39m \u001b[38;5;28;01mimport\u001b[39;00m\u001b[38;5;250m \u001b[39m\u001b[34;01mwarnings\u001b[39;00m\n",
      "\u001b[36mFile \u001b[39m\u001b[32m~/Development/AI/kifiya_week11/Time-Series-Forecasting/src/preprocess.py:5\u001b[39m\n\u001b[32m      3\u001b[39m \u001b[38;5;28;01mimport\u001b[39;00m\u001b[38;5;250m \u001b[39m\u001b[34;01mpandas\u001b[39;00m\u001b[38;5;250m \u001b[39m\u001b[38;5;28;01mas\u001b[39;00m\u001b[38;5;250m \u001b[39m\u001b[34;01mpd\u001b[39;00m\n\u001b[32m      4\u001b[39m \u001b[38;5;28;01mimport\u001b[39;00m\u001b[38;5;250m \u001b[39m\u001b[34;01mnumpy\u001b[39;00m\u001b[38;5;250m \u001b[39m\u001b[38;5;28;01mas\u001b[39;00m\u001b[38;5;250m \u001b[39m\u001b[34;01mnp\u001b[39;00m\n\u001b[32m----> \u001b[39m\u001b[32m5\u001b[39m \u001b[38;5;28;01mfrom\u001b[39;00m\u001b[38;5;250m \u001b[39m\u001b[34;01m.\u001b[39;00m\u001b[34;01mconfig\u001b[39;00m\u001b[38;5;250m \u001b[39m\u001b[38;5;28;01mimport\u001b[39;00m RAW_DIR, PROCESSED_DIR, OHLC_COLS, DEFAULT_TICKERS\n\u001b[32m      6\u001b[39m \u001b[38;5;28;01mfrom\u001b[39;00m\u001b[38;5;250m \u001b[39m\u001b[34;01m.\u001b[39;00m\u001b[34;01mutils\u001b[39;00m\u001b[38;5;250m \u001b[39m\u001b[38;5;28;01mimport\u001b[39;00m logger, save_dataframe, load_dataframe\n\u001b[32m      9\u001b[39m \u001b[38;5;28;01mdef\u001b[39;00m\u001b[38;5;250m \u001b[39m\u001b[34mload_raw\u001b[39m(ticker: \u001b[38;5;28mstr\u001b[39m) -> pd.DataFrame:\n",
      "\u001b[31mImportError\u001b[39m: attempted relative import with no known parent package"
     ]
    }
   ],
   "source": [
    "\n",
    "\n",
    "import os\n",
    "os.chdir('/home/ablex/Development/AI/kifiya_week11/Time-Series-Forecasting')  # adjust to your root path\n",
    "\n",
    "import sys\n",
    "from pathlib import Path\n",
    "\n",
    "sys.path.append(str(Path(\"src\").resolve()))\n",
    "\n",
    "from config import DEFAULT_TICKERS, DEFAULT_START, DEFAULT_END, PROCESSED_DIR\n",
    "from data_fetch import fetch_multiple\n",
    "from preprocess import process_and_save\n",
    "from eda import plot_close, plot_returns_hist, plot_rolling_vol, adf_test_print\n",
    "\n",
    "import warnings\n",
    "warnings.filterwarnings('ignore')\n",
    "\n",
    "sns.set_style('whitegrid')\n"
   ]
  },
  {
   "cell_type": "markdown",
   "metadata": {},
   "source": [
    "### Step 2: Fetch Raw Data from Yahoo Finance\n",
    "\n",
    "Fetch historical stock data for Tesla (TSLA), Vanguard Bond ETF (BND), and S&P 500 ETF (SPY) over the range July 1, 2015 to July 31, 2025."
   ]
  },
  {
   "cell_type": "code",
   "execution_count": null,
   "metadata": {},
   "outputs": [],
   "source": [
    "raw_paths = fetch_multiple(DEFAULT_TICKERS, DEFAULT_START, DEFAULT_END)\n",
    "\n",
    "for ticker, path in raw_paths.items():\n",
    "    print(f\"Raw data saved for {ticker} at: {path}\")\n"
   ]
  },
  {
   "cell_type": "markdown",
   "metadata": {},
   "source": [
    "## Preprocess the Raw Data\n",
    "\n",
    "### Clean data, fill missing values, compute daily returns, log returns, rolling volatility, moving averages, and save processed CSV."
   ]
  },
  {
   "cell_type": "code",
   "execution_count": null,
   "metadata": {},
   "outputs": [],
   "source": [
    "processed_data = {}\n",
    "risk_metrics = {}\n",
    "\n",
    "for ticker in DEFAULT_TICKERS:\n",
    "    df, metrics = process_and_save(ticker)\n",
    "    processed_data[ticker] = df\n",
    "    risk_metrics[ticker] = metrics\n",
    "    print(f\"Preprocessed {ticker} with risk metrics:\")\n",
    "    for k, v in metrics.items():\n",
    "        print(f\"  {k}: {v:.5f}\")\n",
    "    print()\n"
   ]
  },
  {
   "cell_type": "markdown",
   "metadata": {},
   "source": [
    "## Exploratory Data Analysis (EDA) — Visualizations\n",
    "\n",
    "### Plot adjusted close price, daily returns histogram, and rolling volatility for each asset."
   ]
  },
  {
   "cell_type": "code",
   "execution_count": null,
   "metadata": {},
   "outputs": [],
   "source": [
    "fig_dir = Path(\"../reports/figures\")\n",
    "fig_dir.mkdir(parents=True, exist_ok=True)\n",
    "\n",
    "for ticker, df in processed_data.items():\n",
    "    print(f\"### {ticker} Adjusted Close Price\")\n",
    "    plot_close(df, ticker, fig_dir)\n",
    "    img = plt.imread(fig_dir / f\"{ticker}_adj_close.png\")\n",
    "    plt.imshow(img)\n",
    "    plt.axis('off')\n",
    "    plt.show()\n",
    "\n",
    "    print(f\"### {ticker} Daily Returns Distribution\")\n",
    "    plot_returns_hist(df, ticker, fig_dir)\n",
    "    img = plt.imread(fig_dir / f\"{ticker}_returns_hist.png\")\n",
    "    plt.imshow(img)\n",
    "    plt.axis('off')\n",
    "    plt.show()\n",
    "\n",
    "    print(f\"### {ticker} Rolling Volatility (21-day annualized)\")\n",
    "    plot_rolling_vol(df, ticker, 21, fig_dir)\n",
    "    img = plt.imread(fig_dir / f\"{ticker}_vol_21d.png\")\n",
    "    plt.imshow(img)\n",
    "    plt.axis('off')\n",
    "    plt.show()\n"
   ]
  },
  {
   "cell_type": "markdown",
   "metadata": {},
   "source": [
    "## Stationarity Testing — Augmented Dickey-Fuller (ADF) Test\n",
    "\n",
    "### Test for stationarity of adjusted close price and daily returns, crucial for time series modeling."
   ]
  },
  {
   "cell_type": "code",
   "execution_count": null,
   "metadata": {},
   "outputs": [],
   "source": [
    "for ticker, df in processed_data.items():\n",
    "    print(f\"### ADF Test for {ticker} Adjusted Close\")\n",
    "    adf_close = adf_test_print(df['Adj Close'], ticker)\n",
    "    print(f\"ADF Statistic: {adf_close[0]:.5f}\")\n",
    "    print(f\"p-value: {adf_close[1]:.5f}\\n\")\n",
    "\n",
    "    print(f\"### ADF Test for {ticker} Daily Return\")\n",
    "    adf_ret = adf_test_print(df['daily_return'], ticker)\n",
    "    print(f\"ADF Statistic: {adf_ret[0]:.5f}\")\n",
    "    print(f\"p-value: {adf_ret[1]:.5f}\\n\")\n"
   ]
  }
 ],
 "metadata": {
  "kernelspec": {
   "display_name": ".venv",
   "language": "python",
   "name": "python3"
  },
  "language_info": {
   "codemirror_mode": {
    "name": "ipython",
    "version": 3
   },
   "file_extension": ".py",
   "mimetype": "text/x-python",
   "name": "python",
   "nbconvert_exporter": "python",
   "pygments_lexer": "ipython3",
   "version": "3.12.3"
  }
 },
 "nbformat": 4,
 "nbformat_minor": 2
}
